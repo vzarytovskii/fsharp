{
 "cells": [
  {
   "cell_type": "code",
   "execution_count": null,
   "metadata": {
    "dotnet_interactive": {
     "language": "fsharp"
    },
    "vscode": {
     "languageId": "dotnet-interactive.fsharp"
    }
   },
   "outputs": [],
   "source": [
    "#r \"nuget: NuGet.Protocol, 6.2.1\"\n",
    "#r \"nuget: Plotly.NET, 3.0.0\"\n",
    "#r \"nuget: Plotly.NET.Interactive, 3.0.0\"\n",
    "#r \"nuget: LibGit2Sharp, 0.26.2\"\n",
    "#r \"nuget: BenchmarkDotnet, 0.13.1\"\n",
    "#r \"../../../../artifacts/bin/HistoricalBenchmark.Runner/Release/net6.0/HistoricalBenchmark.Runner.dll\"\n",
    "\n",
    "open HistoricalBenchmark.Runner\n",
    "\n",
    "let config =\n",
    "    {\n",
    "        RunConfig.Time = DateTime.Now\n",
    "        // Set to a valid local absolute path\n",
    "        BaseDir = \"C:\\\\Users\\\\vlza\\\\benchmarks\"\n",
    "        Parallelism = 3\n",
    "        ResultsSuffix = \"results\"\n",
    "        BuildLocalCodebases = false\n",
    "        Remote = \"https://github.com/vzarytovskii/fsharp.git\"\n",
    "    }"
   ]
  },
  {
   "cell_type": "code",
   "execution_count": null,
   "metadata": {
    "dotnet_interactive": {
     "language": "fsharp"
    },
    "vscode": {
     "languageId": "dotnet-interactive.fsharp"
    }
   },
   "outputs": [
    {
     "name": "stdout",
     "output_type": "stream",
     "text": [
      "*** Preparing and running benchmarks for the following 2 versions:\r\n",
      "- git_e06e079ebfecc48db530351a1cbf48b93dfb2979\r\n",
      "- git_e44eb1564e148d11125ad4b3d4442bdeb72a6225\r\n",
      "Preparing 2 versions\r\n",
      "*** Preparing version git_e06e079ebfecc48db530351a1cbf48b93dfb2979\r\n",
      "*** Preparing version git_e44eb1564e148d11125ad4b3d4442bdeb72a6225\r\n",
      "e44eb1564e148d11125ad4b3d4442bdeb72a6225 already checked out in C:\\Users\\vlza\\benchmarks\\checkouts\\e44eb1564e148d11125ad4b3d4442bdeb72a6225\r\n",
      "e06e079ebfecc48db530351a1cbf48b93dfb2979 already checked out in e44eb1564e148d11125ad4b3d4442bdeb72a6225 already built in C:\\Users\\vlza\\benchmarks\\checkouts\\e44eb1564e148d11125ad4b3d4442bdeb72a6225C:\\Users\\vlza\\benchmarks\\checkouts\\e06e079ebfecc48db530351a1cbf48b93dfb2979\r\n",
      "\r\n",
      "e06e079ebfecc48db530351a1cbf48b93dfb2979 already built in C:\\Users\\vlza\\benchmarks\\checkouts\\e06e079ebfecc48db530351a1cbf48b93dfb2979\r\n",
      "*** 0/2 versions have existing benchmark results - will only run benchmarks for the remaining 2\r\n",
      "*** Benchmark git_e06e079ebfecc48db530351a1cbf48b93dfb2979 [1/2]\r\n",
      "Benchmarking 'git_e06e079ebfecc48db530351a1cbf48b93dfb2979' - output dir: C:\\Users\\vlza\\benchmarks\\bdns\\2022-09-05_17-37\\git_e06e079ebfecc48db530351a1cbf48b93dfb2979\r\n",
      "e06e079ebfecc48db530351a1cbf48b93dfb2979 already checked out in C:\\Users\\vlza\\benchmarks\\checkouts\\e06e079ebfecc48db530351a1cbf48b93dfb2979\r\n",
      "e06e079ebfecc48db530351a1cbf48b93dfb2979 already built in C:\\Users\\vlza\\benchmarks\\checkouts\\e06e079ebfecc48db530351a1cbf48b93dfb2979\r\n",
      "Benchmarking revision e06e079ebfecc48db530351a1cbf48b93dfb2979, fcsDllPath=C:\\Users\\vlza\\benchmarks\\checkouts\\e06e079ebfecc48db530351a1cbf48b93dfb2979\\artifacts/bin/FSharp.Compiler.Service/Release/netstandard2.0/FSharp.Compiler.Service.dll fsharpCoreDll=C:\\Users\\vlza\\benchmarks\\checkouts\\e06e079ebfecc48db530351a1cbf48b93dfb2979\\artifacts/bin/FSharp.Compiler.Service/Release/netstandard2.0/FSharp.Core.dll\r\n",
      "Running 'dotnet build -c Release HistoricalBenchmark.fsproj' in 'C:\\Users\\vlza\\code\\fsharp\\tests\\benchmarks\\FCSBenchmarks\\BenchmarkComparison\\HistoricalBenchmark.Runner\\../'\r\n",
      "Running 'dotnet run -c Release --no-build --project HistoricalBenchmark.fsproj -- --filter *DecentlySizedStandAloneFileBenchmark* -a C:\\Users\\vlza\\benchmarks\\bdns\\2022-09-05_17-37\\git_e06e079ebfecc48db530351a1cbf48b93dfb2979' in 'C:\\Users\\vlza\\code\\fsharp\\tests\\benchmarks\\FCSBenchmarks\\BenchmarkComparison\\HistoricalBenchmark.Runner\\../'\r\n",
      "Benchmarking 'git_e06e079ebfecc48db530351a1cbf48b93dfb2979' done\r\n",
      "*** Benchmark git_e44eb1564e148d11125ad4b3d4442bdeb72a6225 [2/2]\r\n",
      "Benchmarking 'git_e44eb1564e148d11125ad4b3d4442bdeb72a6225' - output dir: C:\\Users\\vlza\\benchmarks\\bdns\\2022-09-05_17-37\\git_e44eb1564e148d11125ad4b3d4442bdeb72a6225\r\n",
      "e44eb1564e148d11125ad4b3d4442bdeb72a6225 already checked out in C:\\Users\\vlza\\benchmarks\\checkouts\\e44eb1564e148d11125ad4b3d4442bdeb72a6225\r\n",
      "e44eb1564e148d11125ad4b3d4442bdeb72a6225 already built in C:\\Users\\vlza\\benchmarks\\checkouts\\e44eb1564e148d11125ad4b3d4442bdeb72a6225\r\n",
      "Benchmarking revision e44eb1564e148d11125ad4b3d4442bdeb72a6225, fcsDllPath=C:\\Users\\vlza\\benchmarks\\checkouts\\e44eb1564e148d11125ad4b3d4442bdeb72a6225\\artifacts/bin/FSharp.Compiler.Service/Release/netstandard2.0/FSharp.Compiler.Service.dll fsharpCoreDll=C:\\Users\\vlza\\benchmarks\\checkouts\\e44eb1564e148d11125ad4b3d4442bdeb72a6225\\artifacts/bin/FSharp.Compiler.Service/Release/netstandard2.0/FSharp.Core.dll\r\n",
      "Running 'dotnet build -c Release HistoricalBenchmark.fsproj' in 'C:\\Users\\vlza\\code\\fsharp\\tests\\benchmarks\\FCSBenchmarks\\BenchmarkComparison\\HistoricalBenchmark.Runner\\../'\r\n",
      "Running 'dotnet run -c Release --no-build --project HistoricalBenchmark.fsproj -- --filter *DecentlySizedStandAloneFileBenchmark* -a C:\\Users\\vlza\\benchmarks\\bdns\\2022-09-05_17-37\\git_e44eb1564e148d11125ad4b3d4442bdeb72a6225' in 'C:\\Users\\vlza\\code\\fsharp\\tests\\benchmarks\\FCSBenchmarks\\BenchmarkComparison\\HistoricalBenchmark.Runner\\../'\r\n",
      "Benchmarking 'git_e44eb1564e148d11125ad4b3d4442bdeb72a6225' done\r\n",
      "*** After running benchmarks 2 reports are now available - exporting to files and showing a chart.\r\n",
      "Saving 2 aggregate results as JSON in C:\\Users\\vlza\\benchmarks\\bdns\\2022-09-05_17-37\\incremental_builder_experiment\\results.json\r\n",
      "Saving 2 aggregate results as CSV in C:\\Users\\vlza\\benchmarks\\bdns\\2022-09-05_17-37\\incremental_builder_experiment\\results.csv\r\n",
      "Saving chart for 2 results as HTML in C:\\Users\\vlza\\benchmarks\\bdns\\2022-09-05_17-37\\incremental_builder_experiment\\results.html\r\n"
     ]
    },
    {
     "data": {
      "text/html": [
       "\r\n",
       "<div>\r\n",
       "    <div id=\"fc8231f6-7d8c-485b-91fa-88d22ca686ac\"><!-- Plotly chart will be drawn inside this DIV --></div>\r\n",
       "<script type=\"text/javascript\">\r\n",
       "\r\n",
       "            var renderPlotly_fc8231f67d8c485b91fa88d22ca686ac = function() {\r\n",
       "            var fsharpPlotlyRequire = requirejs.config({context:'fsharp-plotly',paths:{plotly:'https://cdn.plot.ly/plotly-2.6.3.min'}}) || require;\r\n",
       "            fsharpPlotlyRequire(['plotly'], function(Plotly) {\r\n",
       "\r\n",
       "            var data = [{\"type\":\"scatter\",\"name\":\"Mean (ms)\",\"mode\":\"lines\",\"x\":[\"git_e06e079e - 2022-09-02\",\"git_e44eb156 - 2022-09-05\"],\"y\":[733.86,710.66],\"marker\":{},\"line\":{}},{\"type\":\"scatter\",\"name\":\"Allocated (MB)\",\"mode\":\"lines\",\"x\":[\"git_e06e079e - 2022-09-02\",\"git_e44eb156 - 2022-09-05\"],\"y\":[275.96,275.97],\"marker\":{},\"line\":{}}];\r\n",
       "            var layout = {\"width\":600,\"height\":600,\"template\":{\"layout\":{\"title\":{\"x\":0.05},\"font\":{\"color\":\"rgba(42, 63, 95, 1.0)\"},\"paper_bgcolor\":\"rgba(255, 255, 255, 1.0)\",\"plot_bgcolor\":\"rgba(229, 236, 246, 1.0)\",\"autotypenumbers\":\"strict\",\"colorscale\":{\"diverging\":[[0.0,\"#8e0152\"],[0.1,\"#c51b7d\"],[0.2,\"#de77ae\"],[0.3,\"#f1b6da\"],[0.4,\"#fde0ef\"],[0.5,\"#f7f7f7\"],[0.6,\"#e6f5d0\"],[0.7,\"#b8e186\"],[0.8,\"#7fbc41\"],[0.9,\"#4d9221\"],[1.0,\"#276419\"]],\"sequential\":[[0.0,\"#0d0887\"],[0.1111111111111111,\"#46039f\"],[0.2222222222222222,\"#7201a8\"],[0.3333333333333333,\"#9c179e\"],[0.4444444444444444,\"#bd3786\"],[0.5555555555555556,\"#d8576b\"],[0.6666666666666666,\"#ed7953\"],[0.7777777777777778,\"#fb9f3a\"],[0.8888888888888888,\"#fdca26\"],[1.0,\"#f0f921\"]],\"sequentialminus\":[[0.0,\"#0d0887\"],[0.1111111111111111,\"#46039f\"],[0.2222222222222222,\"#7201a8\"],[0.3333333333333333,\"#9c179e\"],[0.4444444444444444,\"#bd3786\"],[0.5555555555555556,\"#d8576b\"],[0.6666666666666666,\"#ed7953\"],[0.7777777777777778,\"#fb9f3a\"],[0.8888888888888888,\"#fdca26\"],[1.0,\"#f0f921\"]]},\"hovermode\":\"closest\",\"hoverlabel\":{\"align\":\"left\"},\"coloraxis\":{\"colorbar\":{\"outlinewidth\":0.0,\"ticks\":\"\"}},\"geo\":{\"showland\":true,\"landcolor\":\"rgba(229, 236, 246, 1.0)\",\"showlakes\":true,\"lakecolor\":\"rgba(255, 255, 255, 1.0)\",\"subunitcolor\":\"rgba(255, 255, 255, 1.0)\",\"bgcolor\":\"rgba(255, 255, 255, 1.0)\"},\"mapbox\":{\"style\":\"light\"},\"polar\":{\"bgcolor\":\"rgba(229, 236, 246, 1.0)\",\"radialaxis\":{\"linecolor\":\"rgba(255, 255, 255, 1.0)\",\"gridcolor\":\"rgba(255, 255, 255, 1.0)\",\"ticks\":\"\"},\"angularaxis\":{\"linecolor\":\"rgba(255, 255, 255, 1.0)\",\"gridcolor\":\"rgba(255, 255, 255, 1.0)\",\"ticks\":\"\"}},\"scene\":{\"xaxis\":{\"ticks\":\"\",\"linecolor\":\"rgba(255, 255, 255, 1.0)\",\"gridcolor\":\"rgba(255, 255, 255, 1.0)\",\"gridwidth\":2.0,\"zerolinecolor\":\"rgba(255, 255, 255, 1.0)\",\"backgroundcolor\":\"rgba(229, 236, 246, 1.0)\",\"showbackground\":true},\"yaxis\":{\"ticks\":\"\",\"linecolor\":\"rgba(255, 255, 255, 1.0)\",\"gridcolor\":\"rgba(255, 255, 255, 1.0)\",\"gridwidth\":2.0,\"zerolinecolor\":\"rgba(255, 255, 255, 1.0)\",\"backgroundcolor\":\"rgba(229, 236, 246, 1.0)\",\"showbackground\":true},\"zaxis\":{\"ticks\":\"\",\"linecolor\":\"rgba(255, 255, 255, 1.0)\",\"gridcolor\":\"rgba(255, 255, 255, 1.0)\",\"gridwidth\":2.0,\"zerolinecolor\":\"rgba(255, 255, 255, 1.0)\",\"backgroundcolor\":\"rgba(229, 236, 246, 1.0)\",\"showbackground\":true}},\"ternary\":{\"aaxis\":{\"ticks\":\"\",\"linecolor\":\"rgba(255, 255, 255, 1.0)\",\"gridcolor\":\"rgba(255, 255, 255, 1.0)\"},\"baxis\":{\"ticks\":\"\",\"linecolor\":\"rgba(255, 255, 255, 1.0)\",\"gridcolor\":\"rgba(255, 255, 255, 1.0)\"},\"caxis\":{\"ticks\":\"\",\"linecolor\":\"rgba(255, 255, 255, 1.0)\",\"gridcolor\":\"rgba(255, 255, 255, 1.0)\"},\"bgcolor\":\"rgba(229, 236, 246, 1.0)\"},\"xaxis\":{\"title\":{\"standoff\":15},\"ticks\":\"\",\"automargin\":true,\"linecolor\":\"rgba(255, 255, 255, 1.0)\",\"gridcolor\":\"rgba(255, 255, 255, 1.0)\",\"zerolinecolor\":\"rgba(255, 255, 255, 1.0)\",\"zerolinewidth\":2.0},\"yaxis\":{\"title\":{\"standoff\":15},\"ticks\":\"\",\"automargin\":true,\"linecolor\":\"rgba(255, 255, 255, 1.0)\",\"gridcolor\":\"rgba(255, 255, 255, 1.0)\",\"zerolinecolor\":\"rgba(255, 255, 255, 1.0)\",\"zerolinewidth\":2.0},\"annotationdefaults\":{\"arrowcolor\":\"#2a3f5f\",\"arrowhead\":0,\"arrowwidth\":1},\"shapedefaults\":{\"line\":{\"color\":\"rgba(42, 63, 95, 1.0)\"}},\"colorway\":[\"rgba(99, 110, 250, 1.0)\",\"rgba(239, 85, 59, 1.0)\",\"rgba(0, 204, 150, 1.0)\",\"rgba(171, 99, 250, 1.0)\",\"rgba(255, 161, 90, 1.0)\",\"rgba(25, 211, 243, 1.0)\",\"rgba(255, 102, 146, 1.0)\",\"rgba(182, 232, 128, 1.0)\",\"rgba(255, 151, 255, 1.0)\",\"rgba(254, 203, 82, 1.0)\"]},\"data\":{\"bar\":[{\"marker\":{\"line\":{\"color\":\"rgba(229, 236, 246, 1.0)\",\"width\":0.5},\"pattern\":{\"fillmode\":\"overlay\",\"size\":10,\"solidity\":0.2}},\"error_x\":{\"color\":\"rgba(42, 63, 95, 1.0)\"},\"error_y\":{\"color\":\"rgba(42, 63, 95, 1.0)\"}}],\"barpolar\":[{\"marker\":{\"line\":{\"color\":\"rgba(229, 236, 246, 1.0)\",\"width\":0.5},\"pattern\":{\"fillmode\":\"overlay\",\"size\":10,\"solidity\":0.2}}}],\"carpet\":[{\"aaxis\":{\"linecolor\":\"rgba(255, 255, 255, 1.0)\",\"gridcolor\":\"rgba(255, 255, 255, 1.0)\",\"endlinecolor\":\"rgba(42, 63, 95, 1.0)\",\"minorgridcolor\":\"rgba(255, 255, 255, 1.0)\",\"startlinecolor\":\"rgba(42, 63, 95, 1.0)\"},\"baxis\":{\"linecolor\":\"rgba(255, 255, 255, 1.0)\",\"gridcolor\":\"rgba(255, 255, 255, 1.0)\",\"endlinecolor\":\"rgba(42, 63, 95, 1.0)\",\"minorgridcolor\":\"rgba(255, 255, 255, 1.0)\",\"startlinecolor\":\"rgba(42, 63, 95, 1.0)\"}}],\"choropleth\":[{\"colorbar\":{\"outlinewidth\":0.0,\"ticks\":\"\"},\"colorscale\":[[0.0,\"#0d0887\"],[0.1111111111111111,\"#46039f\"],[0.2222222222222222,\"#7201a8\"],[0.3333333333333333,\"#9c179e\"],[0.4444444444444444,\"#bd3786\"],[0.5555555555555556,\"#d8576b\"],[0.6666666666666666,\"#ed7953\"],[0.7777777777777778,\"#fb9f3a\"],[0.8888888888888888,\"#fdca26\"],[1.0,\"#f0f921\"]]}],\"contour\":[{\"colorbar\":{\"outlinewidth\":0.0,\"ticks\":\"\"},\"colorscale\":[[0.0,\"#0d0887\"],[0.1111111111111111,\"#46039f\"],[0.2222222222222222,\"#7201a8\"],[0.3333333333333333,\"#9c179e\"],[0.4444444444444444,\"#bd3786\"],[0.5555555555555556,\"#d8576b\"],[0.6666666666666666,\"#ed7953\"],[0.7777777777777778,\"#fb9f3a\"],[0.8888888888888888,\"#fdca26\"],[1.0,\"#f0f921\"]]}],\"contourcarpet\":[{\"colorbar\":{\"outlinewidth\":0.0,\"ticks\":\"\"}}],\"heatmap\":[{\"colorbar\":{\"outlinewidth\":0.0,\"ticks\":\"\"},\"colorscale\":[[0.0,\"#0d0887\"],[0.1111111111111111,\"#46039f\"],[0.2222222222222222,\"#7201a8\"],[0.3333333333333333,\"#9c179e\"],[0.4444444444444444,\"#bd3786\"],[0.5555555555555556,\"#d8576b\"],[0.6666666666666666,\"#ed7953\"],[0.7777777777777778,\"#fb9f3a\"],[0.8888888888888888,\"#fdca26\"],[1.0,\"#f0f921\"]]}],\"heatmapgl\":[{\"colorbar\":{\"outlinewidth\":0.0,\"ticks\":\"\"},\"colorscale\":[[0.0,\"#0d0887\"],[0.1111111111111111,\"#46039f\"],[0.2222222222222222,\"#7201a8\"],[0.3333333333333333,\"#9c179e\"],[0.4444444444444444,\"#bd3786\"],[0.5555555555555556,\"#d8576b\"],[0.6666666666666666,\"#ed7953\"],[0.7777777777777778,\"#fb9f3a\"],[0.8888888888888888,\"#fdca26\"],[1.0,\"#f0f921\"]]}],\"histogram\":[{\"marker\":{\"pattern\":{\"fillmode\":\"overlay\",\"size\":10,\"solidity\":0.2}}}],\"histogram2d\":[{\"colorbar\":{\"outlinewidth\":0.0,\"ticks\":\"\"},\"colorscale\":[[0.0,\"#0d0887\"],[0.1111111111111111,\"#46039f\"],[0.2222222222222222,\"#7201a8\"],[0.3333333333333333,\"#9c179e\"],[0.4444444444444444,\"#bd3786\"],[0.5555555555555556,\"#d8576b\"],[0.6666666666666666,\"#ed7953\"],[0.7777777777777778,\"#fb9f3a\"],[0.8888888888888888,\"#fdca26\"],[1.0,\"#f0f921\"]]}],\"histogram2dcontour\":[{\"colorbar\":{\"outlinewidth\":0.0,\"ticks\":\"\"},\"colorscale\":[[0.0,\"#0d0887\"],[0.1111111111111111,\"#46039f\"],[0.2222222222222222,\"#7201a8\"],[0.3333333333333333,\"#9c179e\"],[0.4444444444444444,\"#bd3786\"],[0.5555555555555556,\"#d8576b\"],[0.6666666666666666,\"#ed7953\"],[0.7777777777777778,\"#fb9f3a\"],[0.8888888888888888,\"#fdca26\"],[1.0,\"#f0f921\"]]}],\"mesh3d\":[{\"colorbar\":{\"outlinewidth\":0.0,\"ticks\":\"\"}}],\"parcoords\":[{\"line\":{\"colorbar\":{\"outlinewidth\":0.0,\"ticks\":\"\"}}}],\"pie\":[{\"automargin\":true}],\"scatter\":[{\"marker\":{\"colorbar\":{\"outlinewidth\":0.0,\"ticks\":\"\"}}}],\"scatter3d\":[{\"marker\":{\"colorbar\":{\"outlinewidth\":0.0,\"ticks\":\"\"}},\"line\":{\"colorbar\":{\"outlinewidth\":0.0,\"ticks\":\"\"}}}],\"scattercarpet\":[{\"marker\":{\"colorbar\":{\"outlinewidth\":0.0,\"ticks\":\"\"}}}],\"scattergeo\":[{\"marker\":{\"colorbar\":{\"outlinewidth\":0.0,\"ticks\":\"\"}}}],\"scattergl\":[{\"marker\":{\"colorbar\":{\"outlinewidth\":0.0,\"ticks\":\"\"}}}],\"scattermapbox\":[{\"marker\":{\"colorbar\":{\"outlinewidth\":0.0,\"ticks\":\"\"}}}],\"scatterpolar\":[{\"marker\":{\"colorbar\":{\"outlinewidth\":0.0,\"ticks\":\"\"}}}],\"scatterpolargl\":[{\"marker\":{\"colorbar\":{\"outlinewidth\":0.0,\"ticks\":\"\"}}}],\"scatterternary\":[{\"marker\":{\"colorbar\":{\"outlinewidth\":0.0,\"ticks\":\"\"}}}],\"surface\":[{\"colorbar\":{\"outlinewidth\":0.0,\"ticks\":\"\"},\"colorscale\":[[0.0,\"#0d0887\"],[0.1111111111111111,\"#46039f\"],[0.2222222222222222,\"#7201a8\"],[0.3333333333333333,\"#9c179e\"],[0.4444444444444444,\"#bd3786\"],[0.5555555555555556,\"#d8576b\"],[0.6666666666666666,\"#ed7953\"],[0.7777777777777778,\"#fb9f3a\"],[0.8888888888888888,\"#fdca26\"],[1.0,\"#f0f921\"]]}],\"table\":[{\"cells\":{\"fill\":{\"color\":\"rgba(235, 240, 248, 1.0)\"},\"line\":{\"color\":\"rgba(255, 255, 255, 1.0)\"}},\"header\":{\"fill\":{\"color\":\"rgba(200, 212, 227, 1.0)\"},\"line\":{\"color\":\"rgba(255, 255, 255, 1.0)\"}}}]}}};\r\n",
       "            var config = {\"responsive\":true};\r\n",
       "            Plotly.newPlot('fc8231f6-7d8c-485b-91fa-88d22ca686ac', data, layout, config);\r\n",
       "});\r\n",
       "            };\r\n",
       "            if ((typeof(requirejs) !==  typeof(Function)) || (typeof(requirejs.config) !== typeof(Function))) {\r\n",
       "                var script = document.createElement(\"script\");\r\n",
       "                script.setAttribute(\"src\", \"https://cdnjs.cloudflare.com/ajax/libs/require.js/2.3.6/require.min.js\");\r\n",
       "                script.onload = function(){\r\n",
       "                    renderPlotly_fc8231f67d8c485b91fa88d22ca686ac();\r\n",
       "                };\r\n",
       "                document.getElementsByTagName(\"head\")[0].appendChild(script);\r\n",
       "            }\r\n",
       "            else {\r\n",
       "                renderPlotly_fc8231f67d8c485b91fa88d22ca686ac();\r\n",
       "            }\r\n",
       "</script>\r\n",
       "\r\n",
       "    \r\n",
       "</div    \r\n"
      ]
     },
     "metadata": {},
     "output_type": "display_data"
    }
   ],
   "source": [
    "// Measure 2 revisions\n",
    "let versions =\n",
    "    [\"e06e079ebfecc48db530351a1cbf48b93dfb2979\"; \"e44eb1564e148d11125ad4b3d4442bdeb72a6225\"]\n",
    "    |> List.map FCSVersion.Git\n",
    "// Fetch, build and run benchmarks for all of them\n",
    "Runner.runAll {config with ResultsSuffix = \"incremental_builder_experiment\"} versions"
   ]
  },
  {
   "cell_type": "code",
   "execution_count": null,
   "metadata": {
    "dotnet_interactive": {
     "language": "fsharp"
    },
    "vscode": {
     "languageId": "dotnet-interactive.fsharp"
    }
   },
   "outputs": [],
   "source": [
    "// let newerVersion = findVersion \"40.0.1-preview.21352.5\"\n",
    "// let olderVersion = findVersion \"40.0.0\"\n",
    "// let newerRevision = NuGet.resolvePackageRevision newerVersion\n",
    "// let olderVersion = NuGet.resolvePackageRevision olderVersion\n",
    "\n",
    "// Find all commits between the two\n",
    "let newerRevision = \"cb3692bf5d5af46b075c50d4f802f09152fb6b67\"\n",
    "let olderRevision = \"4d330f37ae740adccd2586d568b6d45d2c408fad\"\n",
    "let cNewer, cOlder = Git.findCommit config newerRevision, Git.findCommit config olderRevision\n",
    "let versions =\n",
    "    Git.findCommitsBetweenInclusive config cOlder cNewer |> Seq.toList\n",
    "    |> Git.excludeBadCommits [\"679e11c533ad6c408723cf9b227a57be23fb51db\"]\n",
    "    |> List.map (fun c -> FCSVersion.Git c.Sha)\n",
    "// Fetch, build and run benchmarks for all of them\n",
    "Runner.runAll {config with ResultsSuffix = \"between_2_nuget_versions\"} versions"
   ]
  },
  {
   "cell_type": "code",
   "execution_count": null,
   "metadata": {
    "dotnet_interactive": {
     "language": "fsharp"
    },
    "vscode": {
     "languageId": "dotnet-interactive.fsharp"
    }
   },
   "outputs": [],
   "source": [
    "// Find two latest NuGet versions of FCS (including prereleases), run benchmarks and export results\n",
    "NuGet.allVersionsMetadata.Value()\n",
    "|> List.take 10\n",
    "|> List.map (fun metadata -> FCSVersion.NuGet metadata.Identity.Version)\n",
    "|> Runner.runAll {config with ResultsSuffix = \"10_latest_nuget_versions\"}"
   ]
  },
  {
   "cell_type": "code",
   "execution_count": null,
   "metadata": {
    "dotnet_interactive": {
     "language": "fsharp"
    },
    "vscode": {
     "languageId": "dotnet-interactive.fsharp"
    }
   },
   "outputs": [],
   "source": [
    "let versions =\n",
    "    [\n",
    "        FCSVersion.Local\n",
    "        FCSVersion.Git \"4edcbb45365f96d4858f438a556b93d4a32ae219\"\n",
    "        FCSVersion.NuGet (NuGet.findVersion \"41.0.5-preview.22329.3\")\n",
    "        FCSVersion.NuGet (NuGet.findVersion \"41.0.5\")\n",
    "        FCSVersion.NuGet (NuGet.findVersion \"40.0.0\")\n",
    "        FCSVersion.NuGet (NuGet.findVersion \"35.0.0\")\n",
    "        FCSVersion.NuGet (NuGet.findVersion \"30.0.0\")\n",
    "        FCSVersion.NuGet (NuGet.findVersion \"25.0.1\")\n",
    "        FCSVersion.NuGet (NuGet.findVersion \"20.0.1\")\n",
    "        FCSVersion.NuGet (NuGet.findVersion \"13.0.0\")\n",
    "    ]\n",
    "    \n",
    "Runner.runAll {config with ResultsSuffix = \"sample_versions\"} versions"
   ]
  }
 ],
 "metadata": {
  "kernelspec": {
   "display_name": ".NET (C#)",
   "language": "C#",
   "name": ".net-csharp"
  },
  "language_info": {
   "file_extension": ".cs",
   "mimetype": "text/x-csharp",
   "name": "C#",
   "pygments_lexer": "csharp",
   "version": "9.0"
  },
  "orig_nbformat": 4
 },
 "nbformat": 4,
 "nbformat_minor": 2
}
